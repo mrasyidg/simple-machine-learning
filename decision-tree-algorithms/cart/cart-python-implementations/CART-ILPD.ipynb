{
 "nbformat": 4,
 "nbformat_minor": 2,
 "metadata": {
  "language_info": {
   "name": "python",
   "codemirror_mode": {
    "name": "ipython",
    "version": 3
   },
   "version": "3.7.6-final"
  },
  "orig_nbformat": 2,
  "file_extension": ".py",
  "mimetype": "text/x-python",
  "name": "python",
  "npconvert_exporter": "python",
  "pygments_lexer": "ipython3",
  "version": 3,
  "kernelspec": {
   "name": "python3",
   "display_name": "Python 3"
  }
 },
 "cells": [
  {
   "cell_type": "code",
   "execution_count": 12,
   "metadata": {},
   "outputs": [
    {
     "output_type": "execute_result",
     "data": {
      "text/plain": "     age     sex  total_bilirubin  direct_bilirubin  alkaline  alamine  \\\n1     29    Male              1.0               0.3      75.0     25.0   \n3     45    Male              1.1               0.4      92.0     91.0   \n6     58    Male              0.4               0.1     100.0     59.0   \n9     35    Male             26.3              12.1     108.0    168.0   \n11    42    Male              0.8               0.2     127.0     29.0   \n..   ...     ...              ...               ...       ...      ...   \n190   84  Female              0.7               0.2     188.0     13.0   \n192   29    Male              0.8               0.2     156.0     12.0   \n193   35  Female              0.6               0.2     180.0     12.0   \n198   18    Male              1.3               0.7     316.0     10.0   \n199   60  Female              1.4               0.7     159.0     10.0   \n\n     aspartate  total_protein  albumin  A/G Ratio  label  \n1           26            5.1      2.9      1.300      1  \n3          188            7.2      3.8      1.110      1  \n6          126            4.3      2.5      1.400      1  \n9          630            9.2      2.0      0.300      1  \n11          30            4.9      2.7      1.200      1  \n..         ...            ...      ...        ...    ...  \n190         21            6.0      3.2      1.100      2  \n192         15            6.8      3.7      1.100      2  \n193         15            5.2      2.7      0.973      2  \n198         21            6.0      2.1      0.500      2  \n199         12            4.9      2.5      1.000      2  \n\n[80 rows x 11 columns]",
      "text/html": "<div>\n<style scoped>\n    .dataframe tbody tr th:only-of-type {\n        vertical-align: middle;\n    }\n\n    .dataframe tbody tr th {\n        vertical-align: top;\n    }\n\n    .dataframe thead th {\n        text-align: right;\n    }\n</style>\n<table border=\"1\" class=\"dataframe\">\n  <thead>\n    <tr style=\"text-align: right;\">\n      <th></th>\n      <th>age</th>\n      <th>sex</th>\n      <th>total_bilirubin</th>\n      <th>direct_bilirubin</th>\n      <th>alkaline</th>\n      <th>alamine</th>\n      <th>aspartate</th>\n      <th>total_protein</th>\n      <th>albumin</th>\n      <th>A/G Ratio</th>\n      <th>label</th>\n    </tr>\n  </thead>\n  <tbody>\n    <tr>\n      <th>1</th>\n      <td>29</td>\n      <td>Male</td>\n      <td>1.0</td>\n      <td>0.3</td>\n      <td>75.0</td>\n      <td>25.0</td>\n      <td>26</td>\n      <td>5.1</td>\n      <td>2.9</td>\n      <td>1.300</td>\n      <td>1</td>\n    </tr>\n    <tr>\n      <th>3</th>\n      <td>45</td>\n      <td>Male</td>\n      <td>1.1</td>\n      <td>0.4</td>\n      <td>92.0</td>\n      <td>91.0</td>\n      <td>188</td>\n      <td>7.2</td>\n      <td>3.8</td>\n      <td>1.110</td>\n      <td>1</td>\n    </tr>\n    <tr>\n      <th>6</th>\n      <td>58</td>\n      <td>Male</td>\n      <td>0.4</td>\n      <td>0.1</td>\n      <td>100.0</td>\n      <td>59.0</td>\n      <td>126</td>\n      <td>4.3</td>\n      <td>2.5</td>\n      <td>1.400</td>\n      <td>1</td>\n    </tr>\n    <tr>\n      <th>9</th>\n      <td>35</td>\n      <td>Male</td>\n      <td>26.3</td>\n      <td>12.1</td>\n      <td>108.0</td>\n      <td>168.0</td>\n      <td>630</td>\n      <td>9.2</td>\n      <td>2.0</td>\n      <td>0.300</td>\n      <td>1</td>\n    </tr>\n    <tr>\n      <th>11</th>\n      <td>42</td>\n      <td>Male</td>\n      <td>0.8</td>\n      <td>0.2</td>\n      <td>127.0</td>\n      <td>29.0</td>\n      <td>30</td>\n      <td>4.9</td>\n      <td>2.7</td>\n      <td>1.200</td>\n      <td>1</td>\n    </tr>\n    <tr>\n      <th>...</th>\n      <td>...</td>\n      <td>...</td>\n      <td>...</td>\n      <td>...</td>\n      <td>...</td>\n      <td>...</td>\n      <td>...</td>\n      <td>...</td>\n      <td>...</td>\n      <td>...</td>\n      <td>...</td>\n    </tr>\n    <tr>\n      <th>190</th>\n      <td>84</td>\n      <td>Female</td>\n      <td>0.7</td>\n      <td>0.2</td>\n      <td>188.0</td>\n      <td>13.0</td>\n      <td>21</td>\n      <td>6.0</td>\n      <td>3.2</td>\n      <td>1.100</td>\n      <td>2</td>\n    </tr>\n    <tr>\n      <th>192</th>\n      <td>29</td>\n      <td>Male</td>\n      <td>0.8</td>\n      <td>0.2</td>\n      <td>156.0</td>\n      <td>12.0</td>\n      <td>15</td>\n      <td>6.8</td>\n      <td>3.7</td>\n      <td>1.100</td>\n      <td>2</td>\n    </tr>\n    <tr>\n      <th>193</th>\n      <td>35</td>\n      <td>Female</td>\n      <td>0.6</td>\n      <td>0.2</td>\n      <td>180.0</td>\n      <td>12.0</td>\n      <td>15</td>\n      <td>5.2</td>\n      <td>2.7</td>\n      <td>0.973</td>\n      <td>2</td>\n    </tr>\n    <tr>\n      <th>198</th>\n      <td>18</td>\n      <td>Male</td>\n      <td>1.3</td>\n      <td>0.7</td>\n      <td>316.0</td>\n      <td>10.0</td>\n      <td>21</td>\n      <td>6.0</td>\n      <td>2.1</td>\n      <td>0.500</td>\n      <td>2</td>\n    </tr>\n    <tr>\n      <th>199</th>\n      <td>60</td>\n      <td>Female</td>\n      <td>1.4</td>\n      <td>0.7</td>\n      <td>159.0</td>\n      <td>10.0</td>\n      <td>12</td>\n      <td>4.9</td>\n      <td>2.5</td>\n      <td>1.000</td>\n      <td>2</td>\n    </tr>\n  </tbody>\n</table>\n<p>80 rows × 11 columns</p>\n</div>"
     },
     "metadata": {},
     "execution_count": 12
    }
   ],
   "source": [
    "from __future__ import print_function\n",
    "import pandas as pd\n",
    "import numpy as np\n",
    "\n",
    "\n",
    "dataset = pd.read_csv('ilpd.csv')\n",
    "\n",
    "#Create the column names and load the dataset with it\n",
    "col_names = ['age', 'sex', 'total_bilirubin', 'direct_bilirubin', 'alkaline', 'alamine',\n",
    "            'aspartate', 'total_protein', 'albumin', 'A/G Ratio', 'label']\n",
    "\n",
    "dataset = pd.read_csv('ilpd.csv', header=None, names=col_names)\n",
    "\n",
    "#Split the dataset into features/attributes and target/label\n",
    "feature_cols = ['age', 'sex', 'total_bilirubin', 'direct_bilirubin', 'alkaline', 'alamine',\n",
    "            'aspartate', 'total_protein', 'albumin', 'A/G Ratio']\n",
    "\n",
    "classification_data = dataset[feature_cols] # Features\n",
    "classification_label = dataset.label # Target variable\n",
    "\n",
    "#Create array for each dataset.\n",
    "dataset_array = dataset.to_numpy()\n",
    "class_dataset = classification_data.to_numpy()\n",
    "label_dataset = classification_label.to_numpy()\n",
    "\n",
    "to_be_splitted = pd.read_csv('ilpd.csv', header=None, names=col_names)\n",
    "dataset_copy = to_be_splitted.copy()\n",
    "train_set = dataset_copy.sample(frac=0.60, random_state=0)\n",
    "test_set = dataset_copy.drop(train_set.index)\n",
    "train_mean = train_set.mean()\n",
    "test_mean = test_set.mean()\n",
    "train_set.fillna(train_mean).round(3) # Decimal values are rounded to 3 decimal places.\n",
    "test_set.fillna(test_mean).round(3) # Decimal values are rounded to 3 decimal places."
   ]
  },
  {
   "cell_type": "code",
   "execution_count": 15,
   "metadata": {},
   "outputs": [
    {
     "output_type": "stream",
     "name": "stdout",
     "text": "Tree:\n\nIs age >= 37?\n--> True:\n  Is age >= 60?\n  --> True:\n    Is total_bilirubin >= 2.4?\n    --> True:\n      Predict {1: 15}\n    --> False:\n      Is alamine >= 76.0?\n      --> True:\n        Predict {1: 5}\n      --> False:\n        Is alkaline >= 170.0?\n        --> True:\n          Predict {2: 21}\n        --> False:\n          Is A/G Ratio >= 1.39?\n          --> True:\n            Predict {2: 4}\n          --> False:\n            Is aspartate >= 20?\n            --> True:\n              Is aspartate >= 110?\n              --> True:\n                Predict {2: 1}\n              --> False:\n                Is sex == Female?\n                --> True:\n                  Predict {2: 1}\n                --> False:\n                  Is A/G Ratio >= 1.18?\n                  --> True:\n                    Is A/G Ratio >= 1.36?\n                    --> True:\n                      Predict {1: 1}\n                    --> False:\n                      Predict {2: 1}\n                  --> False:\n                    Predict {1: 8}\n            --> False:\n              Predict {2: 3}\n  --> False:\n    Predict {1: 47}\n--> False:\n  Is direct_bilirubin >= 3.2?\n  --> True:\n    Predict {1: 5}\n  --> False:\n    Is alkaline >= 719.0?\n    --> True:\n      Predict {1: 3}\n    --> False:\n      Is alkaline >= 174.0?\n      --> True:\n        Is total_protein >= 4.8?\n        --> True:\n          Is age >= 11?\n          --> True:\n            Predict {2: 40}\n          --> False:\n            Is alamine >= 28.0?\n            --> True:\n              Predict {2: 4}\n            --> False:\n              Predict {1: 1}\n        --> False:\n          Predict {1: 1}\n      --> False:\n        Is alkaline >= 90.0?\n        --> True:\n          Is alamine >= 35.0?\n          --> True:\n            Is total_protein >= 6.1?\n            --> True:\n              Is aspartate >= 71?\n              --> True:\n                Is A/G Ratio >= 1.58?\n                --> True:\n                  Predict {1: 1}\n                --> False:\n                  Predict {2: 1}\n              --> False:\n                Predict {1: 4}\n            --> False:\n              Predict {2: 2}\n          --> False:\n            Is alamine >= 24.0?\n            --> True:\n              Predict {2: 13}\n            --> False:\n              Is age >= 34?\n              --> True:\n                Predict {1: 3}\n              --> False:\n                Is total_bilirubin >= 1.0?\n                --> True:\n                  Predict {2: 5}\n                --> False:\n                  Is A/G Ratio >= 1.1?\n                  --> True:\n                    Predict {2: 2}\n                  --> False:\n                    Is total_bilirubin >= 0.8?\n                    --> True:\n                      Predict {1: 3}\n                    --> False:\n                      Is aspartate >= 32?\n                      --> True:\n                        Predict {1: 1}\n                      --> False:\n                        Predict {2: 2}\n        --> False:\n          Predict {1: 2}\n"
    }
   ],
   "source": [
    "from DecisionTreeClassifier import *\n",
    "\n",
    "d_tree = DecisionTreeClassifier.build_tree(dataset_array)\n",
    "print(\"Tree:\\n\")\n",
    "Decision_Node.print_tree(d_tree)"
   ]
  },
  {
   "cell_type": "code",
   "execution_count": 16,
   "metadata": {},
   "outputs": [
    {
     "output_type": "stream",
     "name": "stdout",
     "text": "Actual: 1. Predicted: {1: '100%'}\nActual: 1. Predicted: {1: '100%'}\nActual: 1. Predicted: {1: '100%'}\nActual: 1. Predicted: {1: '100%'}\nActual: 1. Predicted: {1: '100%'}\nActual: 1. Predicted: {2: '100%'}\nActual: 1. Predicted: {1: '100%'}\nActual: 1. Predicted: {2: '100%'}\nActual: 1. Predicted: {1: '100%'}\nActual: 1. Predicted: {2: '100%'}\nActual: 1. Predicted: {1: '100%'}\nActual: 1. Predicted: {2: '100%'}\nActual: 1. Predicted: {1: '100%'}\nActual: 1. Predicted: {1: '100%'}\nActual: 1. Predicted: {2: '100%'}\nActual: 1. Predicted: {1: '100%'}\nActual: 1. Predicted: {1: '100%'}\nActual: 1. Predicted: {2: '100%'}\nActual: 1. Predicted: {1: '100%'}\nActual: 1. Predicted: {2: '100%'}\nActual: 1. Predicted: {1: '100%'}\nActual: 1. Predicted: {2: '100%'}\nActual: 1. Predicted: {1: '100%'}\nActual: 1. Predicted: {1: '100%'}\nActual: 1. Predicted: {1: '100%'}\nActual: 1. Predicted: {1: '100%'}\nActual: 1. Predicted: {1: '100%'}\nActual: 1. Predicted: {1: '100%'}\nActual: 1. Predicted: {1: '100%'}\nActual: 1. Predicted: {1: '100%'}\nActual: 1. Predicted: {1: '100%'}\nActual: 1. Predicted: {1: '100%'}\nActual: 1. Predicted: {1: '100%'}\nActual: 1. Predicted: {1: '100%'}\nActual: 1. Predicted: {1: '100%'}\nActual: 1. Predicted: {1: '100%'}\nActual: 1. Predicted: {1: '100%'}\nActual: 1. Predicted: {1: '100%'}\nActual: 1. Predicted: {1: '100%'}\nActual: 1. Predicted: {1: '100%'}\nActual: 2. Predicted: {1: '100%'}\nActual: 2. Predicted: {2: '100%'}\nActual: 2. Predicted: {2: '100%'}\nActual: 2. Predicted: {1: '100%'}\nActual: 2. Predicted: {2: '100%'}\nActual: 2. Predicted: {2: '100%'}\nActual: 2. Predicted: {2: '100%'}\nActual: 2. Predicted: {2: '100%'}\nActual: 2. Predicted: {1: '100%'}\nActual: 2. Predicted: {2: '100%'}\nActual: 2. Predicted: {2: '100%'}\nActual: 2. Predicted: {2: '100%'}\nActual: 2. Predicted: {1: '100%'}\nActual: 2. Predicted: {2: '100%'}\nActual: 2. Predicted: {2: '100%'}\nActual: 2. Predicted: {2: '100%'}\nActual: 2. Predicted: {2: '100%'}\nActual: 2. Predicted: {2: '100%'}\nActual: 2. Predicted: {2: '100%'}\nActual: 2. Predicted: {2: '100%'}\nActual: 2. Predicted: {1: '100%'}\nActual: 2. Predicted: {2: '100%'}\nActual: 2. Predicted: {2: '100%'}\nActual: 2. Predicted: {2: '100%'}\nActual: 2. Predicted: {2: '100%'}\nActual: 2. Predicted: {2: '100%'}\nActual: 2. Predicted: {2: '100%'}\nActual: 2. Predicted: {2: '100%'}\nActual: 2. Predicted: {2: '100%'}\nActual: 2. Predicted: {2: '100%'}\nActual: 2. Predicted: {1: '100%'}\nActual: 2. Predicted: {1: '100%'}\nActual: 2. Predicted: {2: '100%'}\nActual: 2. Predicted: {2: '100%'}\nActual: 2. Predicted: {2: '100%'}\nActual: 2. Predicted: {2: '100%'}\nActual: 2. Predicted: {2: '100%'}\nActual: 2. Predicted: {2: '100%'}\nActual: 2. Predicted: {2: '100%'}\nActual: 2. Predicted: {1: '100%'}\n"
    }
   ],
   "source": [
    "#### Create the training and test set Decision Tree.\n",
    "\n",
    "train_set = train_set.to_numpy()\n",
    "test_set_rows = test_set.to_numpy()\n",
    "\n",
    "evaluation_tree = DecisionTreeClassifier.build_tree(train_set)\n",
    "\n",
    "##### Evaluate\n",
    "Decision_Node.testing_result(test_set_rows, evaluation_tree)"
   ]
  },
  {
   "cell_type": "code",
   "execution_count": 17,
   "metadata": {},
   "outputs": [],
   "source": [
    "### Conclusion about this algorithm:\n",
    "#### By the results shown, the machine learning model might be overfitted."
   ]
  }
 ]
}