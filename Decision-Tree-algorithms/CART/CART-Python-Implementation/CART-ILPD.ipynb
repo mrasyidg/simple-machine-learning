{
 "nbformat": 4,
 "nbformat_minor": 2,
 "metadata": {
  "language_info": {
   "name": "python",
   "codemirror_mode": {
    "name": "ipython",
    "version": 3
   },
   "version": "3.7.6-final"
  },
  "orig_nbformat": 2,
  "file_extension": ".py",
  "mimetype": "text/x-python",
  "name": "python",
  "npconvert_exporter": "python",
  "pygments_lexer": "ipython3",
  "version": 3,
  "kernelspec": {
   "name": "python3",
   "display_name": "Python 3"
  }
 },
 "cells": [
  {
   "cell_type": "code",
   "execution_count": 10,
   "metadata": {},
   "outputs": [
    {
     "output_type": "execute_result",
     "data": {
      "text/plain": "     age     sex  total_bilirubin  direct_bilirubin  alkaline  alamine  \\\n18    26  Female              0.6               0.2     142.0     12.0   \n170   20    Male              1.1               0.5     128.0     20.0   \n107   22    Male              0.8               0.2     300.0     57.0   \n98    60    Male             19.6               9.5     466.0     46.0   \n177   28  Female              1.0               0.3      90.0     18.0   \n..   ...     ...              ...               ...       ...      ...   \n161   65  Female              0.7               0.2     406.0     24.0   \n23    61    Male              0.7               0.2     145.0     53.0   \n186   33    Male              1.6               0.5     165.0     15.0   \n135   32    Male              0.7               0.2     165.0     31.0   \n20    48  Female              1.0               1.4     144.0     18.0   \n\n     aspartate  total_protein  albumin  A/G Ratio  label  \n18          32            5.7      2.4       0.75      1  \n170         30            3.9      1.9       0.95      2  \n107         40            7.9      3.8       0.90      2  \n98          52            6.1      2.0       0.40      1  \n177        108            6.8      3.1       0.80      2  \n..         ...            ...      ...        ...    ...  \n161         45            7.2      3.5       0.90      2  \n23          41            5.8      2.7       0.87      1  \n186         23            7.3      3.5       0.92      2  \n135         29            6.1      3.0       0.96      2  \n20          14            8.3      4.2       1.00      1  \n\n[120 rows x 11 columns]",
      "text/html": "<div>\n<style scoped>\n    .dataframe tbody tr th:only-of-type {\n        vertical-align: middle;\n    }\n\n    .dataframe tbody tr th {\n        vertical-align: top;\n    }\n\n    .dataframe thead th {\n        text-align: right;\n    }\n</style>\n<table border=\"1\" class=\"dataframe\">\n  <thead>\n    <tr style=\"text-align: right;\">\n      <th></th>\n      <th>age</th>\n      <th>sex</th>\n      <th>total_bilirubin</th>\n      <th>direct_bilirubin</th>\n      <th>alkaline</th>\n      <th>alamine</th>\n      <th>aspartate</th>\n      <th>total_protein</th>\n      <th>albumin</th>\n      <th>A/G Ratio</th>\n      <th>label</th>\n    </tr>\n  </thead>\n  <tbody>\n    <tr>\n      <th>18</th>\n      <td>26</td>\n      <td>Female</td>\n      <td>0.6</td>\n      <td>0.2</td>\n      <td>142.0</td>\n      <td>12.0</td>\n      <td>32</td>\n      <td>5.7</td>\n      <td>2.4</td>\n      <td>0.75</td>\n      <td>1</td>\n    </tr>\n    <tr>\n      <th>170</th>\n      <td>20</td>\n      <td>Male</td>\n      <td>1.1</td>\n      <td>0.5</td>\n      <td>128.0</td>\n      <td>20.0</td>\n      <td>30</td>\n      <td>3.9</td>\n      <td>1.9</td>\n      <td>0.95</td>\n      <td>2</td>\n    </tr>\n    <tr>\n      <th>107</th>\n      <td>22</td>\n      <td>Male</td>\n      <td>0.8</td>\n      <td>0.2</td>\n      <td>300.0</td>\n      <td>57.0</td>\n      <td>40</td>\n      <td>7.9</td>\n      <td>3.8</td>\n      <td>0.90</td>\n      <td>2</td>\n    </tr>\n    <tr>\n      <th>98</th>\n      <td>60</td>\n      <td>Male</td>\n      <td>19.6</td>\n      <td>9.5</td>\n      <td>466.0</td>\n      <td>46.0</td>\n      <td>52</td>\n      <td>6.1</td>\n      <td>2.0</td>\n      <td>0.40</td>\n      <td>1</td>\n    </tr>\n    <tr>\n      <th>177</th>\n      <td>28</td>\n      <td>Female</td>\n      <td>1.0</td>\n      <td>0.3</td>\n      <td>90.0</td>\n      <td>18.0</td>\n      <td>108</td>\n      <td>6.8</td>\n      <td>3.1</td>\n      <td>0.80</td>\n      <td>2</td>\n    </tr>\n    <tr>\n      <th>...</th>\n      <td>...</td>\n      <td>...</td>\n      <td>...</td>\n      <td>...</td>\n      <td>...</td>\n      <td>...</td>\n      <td>...</td>\n      <td>...</td>\n      <td>...</td>\n      <td>...</td>\n      <td>...</td>\n    </tr>\n    <tr>\n      <th>161</th>\n      <td>65</td>\n      <td>Female</td>\n      <td>0.7</td>\n      <td>0.2</td>\n      <td>406.0</td>\n      <td>24.0</td>\n      <td>45</td>\n      <td>7.2</td>\n      <td>3.5</td>\n      <td>0.90</td>\n      <td>2</td>\n    </tr>\n    <tr>\n      <th>23</th>\n      <td>61</td>\n      <td>Male</td>\n      <td>0.7</td>\n      <td>0.2</td>\n      <td>145.0</td>\n      <td>53.0</td>\n      <td>41</td>\n      <td>5.8</td>\n      <td>2.7</td>\n      <td>0.87</td>\n      <td>1</td>\n    </tr>\n    <tr>\n      <th>186</th>\n      <td>33</td>\n      <td>Male</td>\n      <td>1.6</td>\n      <td>0.5</td>\n      <td>165.0</td>\n      <td>15.0</td>\n      <td>23</td>\n      <td>7.3</td>\n      <td>3.5</td>\n      <td>0.92</td>\n      <td>2</td>\n    </tr>\n    <tr>\n      <th>135</th>\n      <td>32</td>\n      <td>Male</td>\n      <td>0.7</td>\n      <td>0.2</td>\n      <td>165.0</td>\n      <td>31.0</td>\n      <td>29</td>\n      <td>6.1</td>\n      <td>3.0</td>\n      <td>0.96</td>\n      <td>2</td>\n    </tr>\n    <tr>\n      <th>20</th>\n      <td>48</td>\n      <td>Female</td>\n      <td>1.0</td>\n      <td>1.4</td>\n      <td>144.0</td>\n      <td>18.0</td>\n      <td>14</td>\n      <td>8.3</td>\n      <td>4.2</td>\n      <td>1.00</td>\n      <td>1</td>\n    </tr>\n  </tbody>\n</table>\n<p>120 rows × 11 columns</p>\n</div>"
     },
     "metadata": {},
     "execution_count": 10
    }
   ],
   "source": [
    "from __future__ import print_function\n",
    "import pandas as pd\n",
    "import numpy as np\n",
    "\n",
    "\n",
    "dataset = pd.read_csv('ilpd.csv')\n",
    "\n",
    "#Create the column names and load the dataset with it\n",
    "col_names = ['age', 'sex', 'total_bilirubin', 'direct_bilirubin', 'alkaline', 'alamine',\n",
    "            'aspartate', 'total_protein', 'albumin', 'A/G Ratio', 'label']\n",
    "\n",
    "dataset = pd.read_csv('ilpd.csv', header=None, names=col_names)\n",
    "\n",
    "#Split the dataset into features/attributes and target/label\n",
    "feature_cols = ['age', 'sex', 'total_bilirubin', 'direct_bilirubin', 'alkaline', 'alamine',\n",
    "            'aspartate', 'total_protein', 'albumin', 'A/G Ratio']\n",
    "\n",
    "classification_data = dataset[feature_cols] # Features\n",
    "classification_label = dataset.label # Target variable\n",
    "\n",
    "#Create array for each dataset.\n",
    "dataset_array = dataset.to_numpy()\n",
    "class_dataset = classification_data.to_numpy()\n",
    "label_dataset = classification_label.to_numpy()\n",
    "\n",
    "to_be_splitted = pd.read_csv('ilpd.csv', header=None, names=col_names)\n",
    "dataset_copy = to_be_splitted.copy()\n",
    "train_set = dataset_copy.sample(frac=0.60, random_state=0)\n",
    "test_set = dataset_copy.drop(train_set.index)\n",
    "train_mean = train_set.mean()\n",
    "test_mean = test_set.mean()\n",
    "train_set.fillna(train_mean).round(3) # Decimal values are rounded to 3 decimal places."
   ]
  },
  {
   "cell_type": "code",
   "execution_count": null,
   "metadata": {},
   "outputs": [],
   "source": []
  }
 ]
}